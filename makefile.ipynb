{
 "cells": [
  {
   "cell_type": "code",
   "execution_count": 3,
   "metadata": {},
   "outputs": [],
   "source": [
    "import numpy as np"
   ]
  },
  {
   "cell_type": "code",
   "execution_count": 7,
   "metadata": {},
   "outputs": [],
   "source": [
    "graph = [[7,2],[1,2],[10,1],[2,3],[3,4],[5,4],[4,8],[11,5],[5,6],[9,6],[12,9],[200,100],[100,900],[200,300],[300,600],[400,300],[400,500],[500,700],[700,800]]\n",
    "graph = np.array(graph)\n",
    "np.save('static/graph',graph)\n",
    "\n",
    "newg = [[2,200],[4,400]]\n",
    "newg = np.array(newg)\n",
    "np.save('static/output',newg)"
   ]
  },
  {
   "cell_type": "code",
   "execution_count": 9,
   "metadata": {},
   "outputs": [],
   "source": [
    "wf = open('static/ea_dataset/dbp/entity_raw_rev.txt',\"w\")\n",
    "\n",
    "wf.write('%d\\t%s\\n' %(1,'a'))\n",
    "wf.write('%d\\t%s\\n' %(2,'b'))\n",
    "wf.write('%d\\t%s\\n' %(3,'c'))\n",
    "wf.write('%d\\t%s\\n' %(4,'d'))\n",
    "wf.write('%d\\t%s\\n' %(5,'e'))\n",
    "wf.write('%d\\t%s\\n' %(6,'e'))\n",
    "wf.write('%d\\t%s\\n' %(7,'e'))\n",
    "wf.write('%d\\t%s\\n' %(8,'e'))\n",
    "wf.write('%d\\t%s\\n' %(9,'e'))\n",
    "wf.write('%d\\t%s\\n' %(10,'e'))\n",
    "wf.write('%d\\t%s\\n' %(11,'e'))\n",
    "wf.write('%d\\t%s\\n' %(12,'e'))\n",
    "wf.close()\n",
    "\n",
    "wf = open('static/ea_dataset/wd/entity_raw_rev.txt',\"w\")\n",
    "\n",
    "wf.write('%d\\t%s\\n' %(100,'a'))\n",
    "wf.write('%d\\t%s\\n' %(200,'B'))\n",
    "wf.write('%d\\t%s\\n' %(300,'c'))\n",
    "wf.write('%d\\t%s\\n' %(400,'D'))\n",
    "wf.write('%d\\t%s\\n' %(500,'e'))\n",
    "wf.write('%d\\t%s\\n' %(600,'e'))\n",
    "wf.write('%d\\t%s\\n' %(700,'e'))\n",
    "wf.write('%d\\t%s\\n' %(800,'e'))\n",
    "\n",
    "wf.close()\n",
    "\n"
   ]
  },
  {
   "cell_type": "code",
   "execution_count": 10,
   "metadata": {},
   "outputs": [
    {
     "ename": "ModuleNotFoundError",
     "evalue": "No module named 'pandas'",
     "output_type": "error",
     "traceback": [
      "\u001b[0;31m---------------------------------------------------------------------------\u001b[0m",
      "\u001b[0;31mModuleNotFoundError\u001b[0m                       Traceback (most recent call last)",
      "Cell \u001b[0;32mIn[10], line 5\u001b[0m\n\u001b[1;32m      2\u001b[0m e2 \u001b[39m=\u001b[39m [\u001b[39m100\u001b[39m,\u001b[39m200\u001b[39m,\u001b[39m300\u001b[39m,\u001b[39m400\u001b[39m,\u001b[39m500\u001b[39m,\u001b[39m100\u001b[39m,\u001b[39m200\u001b[39m,\u001b[39m300\u001b[39m,\u001b[39m400\u001b[39m,\u001b[39m500\u001b[39m]\n\u001b[1;32m      3\u001b[0m sc \u001b[39m=\u001b[39m [\u001b[39m0.5\u001b[39m,\u001b[39m0.5\u001b[39m,\u001b[39m0.5\u001b[39m,\u001b[39m0.5\u001b[39m,\u001b[39m0.5\u001b[39m,\u001b[39m0.5\u001b[39m,\u001b[39m0.5\u001b[39m,\u001b[39m0.5\u001b[39m,\u001b[39m0.5\u001b[39m,\u001b[39m0.5\u001b[39m]\n\u001b[0;32m----> 5\u001b[0m \u001b[39mimport\u001b[39;00m \u001b[39mpandas\u001b[39;00m \u001b[39mas\u001b[39;00m \u001b[39mpd\u001b[39;00m\n\u001b[1;32m      7\u001b[0m df \u001b[39m=\u001b[39m pd\u001b[39m.\u001b[39mDataFrame(\u001b[39m'\u001b[39m\u001b[39mstatic/candidate_pairs.csv\u001b[39m\u001b[39m'\u001b[39m)\n",
      "\u001b[0;31mModuleNotFoundError\u001b[0m: No module named 'pandas'"
     ]
    }
   ],
   "source": [
    "e1 = [2,2,2,2,2,4,4,4,4,4]\n",
    "e2 = [100,200,300,400,500,100,200,300,400,500]\n",
    "sc = [0.5,0.5,0.5,0.5,0.5,0.5,0.5,0.5,0.5,0.5]\n",
    "\n",
    "import pandas as pd\n",
    "\n",
    "df = pd.DataFrame('static/candidate_pairs.csv')"
   ]
  },
  {
   "cell_type": "code",
   "execution_count": null,
   "metadata": {},
   "outputs": [],
   "source": []
  }
 ],
 "metadata": {
  "kernelspec": {
   "display_name": "poc",
   "language": "python",
   "name": "python3"
  },
  "language_info": {
   "codemirror_mode": {
    "name": "ipython",
    "version": 3
   },
   "file_extension": ".py",
   "mimetype": "text/x-python",
   "name": "python",
   "nbconvert_exporter": "python",
   "pygments_lexer": "ipython3",
   "version": "3.11.2"
  },
  "orig_nbformat": 4
 },
 "nbformat": 4,
 "nbformat_minor": 2
}
