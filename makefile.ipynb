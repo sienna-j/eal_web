{
 "cells": [
  {
   "cell_type": "code",
   "execution_count": 3,
   "metadata": {},
   "outputs": [],
   "source": [
    "import numpy as np"
   ]
  },
  {
   "cell_type": "code",
   "execution_count": 7,
   "metadata": {},
   "outputs": [],
   "source": [
    "graph = [[7,2],[1,2],[10,1],[2,3],[3,4],[5,4],[4,8],[11,5],[5,6],[9,6],[12,9],[200,100],[100,900],[200,300],[300,600],[400,300],[400,500],[500,700],[700,800]]\n",
    "graph = np.array(graph)\n",
    "np.save('static/graph',graph)\n",
    "\n",
    "newg = [[2,200],[4,400]]\n",
    "newg = np.array(newg)\n",
    "np.save('static/output',newg)"
   ]
  },
  {
   "cell_type": "code",
   "execution_count": 16,
   "metadata": {},
   "outputs": [],
   "source": [
    "wf = open('static/ea_dataset/dbp/entity_raw_rev.txt',\"w\")\n",
    "\n",
    "wf.write('%d\\t%s\\n' %(1,'1'))\n",
    "wf.write('%d\\t%s\\n' %(2,'2'))\n",
    "wf.write('%d\\t%s\\n' %(3,'3'))\n",
    "wf.write('%d\\t%s\\n' %(4,'4'))\n",
    "wf.write('%d\\t%s\\n' %(5,'5'))\n",
    "wf.write('%d\\t%s\\n' %(6,'6'))\n",
    "wf.write('%d\\t%s\\n' %(7,'7'))\n",
    "wf.write('%d\\t%s\\n' %(8,'8'))\n",
    "wf.write('%d\\t%s\\n' %(9,'9'))\n",
    "wf.write('%d\\t%s\\n' %(10,'10'))\n",
    "wf.write('%d\\t%s\\n' %(11,'11'))\n",
    "wf.write('%d\\t%s\\n' %(12,'12'))\n",
    "wf.close()\n",
    "\n",
    "wf = open('static/ea_dataset/wd/entity_raw_rev.txt',\"w\")\n",
    "\n",
    "wf.write('%d\\t%s\\n' %(100,'1a'))\n",
    "wf.write('%d\\t%s\\n' %(200,'2a'))\n",
    "wf.write('%d\\t%s\\n' %(300,'3a'))\n",
    "wf.write('%d\\t%s\\n' %(400,'4a'))\n",
    "wf.write('%d\\t%s\\n' %(500,'5a'))\n",
    "wf.write('%d\\t%s\\n' %(600,'6a'))\n",
    "wf.write('%d\\t%s\\n' %(700,'7a'))\n",
    "wf.write('%d\\t%s\\n' %(800,'8a'))\n",
    "\n",
    "wf.close()\n",
    "\n"
   ]
  },
  {
   "cell_type": "code",
   "execution_count": 17,
   "metadata": {},
   "outputs": [],
   "source": [
    "e1 = [2,2,2,2,2,4,4,4,4,4,3,3,3,3,3]\n",
    "e2 = [100,200,300,400,500,500,400,300,200,100,500,400,300,200,100]\n",
    "sc = [0.5,0.5,0.5,0.5,0.5,0.6,0.7,0.8,0.9,0.5,0.6,0.7,0.8,0.9,0.5]\n",
    "\n",
    "import pandas as pd\n",
    "\n",
    "df = pd.DataFrame(columns=['entity1','entity2','score'])\n",
    "df['entity1'] = e1\n",
    "df['entity2'] = e2\n",
    "df['score'] = sc\n",
    "\n",
    "df.to_csv('static/candidate_pairs.csv', index=False)"
   ]
  },
  {
   "cell_type": "code",
   "execution_count": null,
   "metadata": {},
   "outputs": [],
   "source": []
  }
 ],
 "metadata": {
  "kernelspec": {
   "display_name": "poc",
   "language": "python",
   "name": "python3"
  },
  "language_info": {
   "codemirror_mode": {
    "name": "ipython",
    "version": 3
   },
   "file_extension": ".py",
   "mimetype": "text/x-python",
   "name": "python",
   "nbconvert_exporter": "python",
   "pygments_lexer": "ipython3",
   "version": "3.11.2"
  },
  "orig_nbformat": 4
 },
 "nbformat": 4,
 "nbformat_minor": 2
}
